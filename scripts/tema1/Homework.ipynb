{
 "cells": [
  {
   "cell_type": "code",
   "execution_count": 12,
   "metadata": {},
   "outputs": [],
   "source": [
    "import math\n",
    "import numpy as np"
   ]
  },
  {
   "cell_type": "code",
   "execution_count": 4,
   "metadata": {},
   "outputs": [
    {
     "name": "stdout",
     "output_type": "stream",
     "text": [
      "Enter a number: 0\n",
      "The number is positive.\n"
     ]
    }
   ],
   "source": [
    "number = float(input(\"Enter a number: \"))\n",
    "if number >= 0:\n",
    "    print(\"The number is positive.\")\n",
    "else:\n",
    "    print(\"The number in negative.\")\n",
    "    "
   ]
  },
  {
   "cell_type": "code",
   "execution_count": 7,
   "metadata": {},
   "outputs": [
    {
     "name": "stdout",
     "output_type": "stream",
     "text": [
      "Enter a number: 8\n",
      "The number 8.0 is out of range [-5, 5]\n"
     ]
    }
   ],
   "source": [
    "number = float(input(\"Enter a number: \"))\n",
    "if number >= -5 and number <= 5:\n",
    "    print(\"The number {} is between range [-5, 5]\".format(number))\n",
    "else:\n",
    "    print(\"The number {} is out of range [-5, 5]\".format(number))\n",
    "    "
   ]
  },
  {
   "cell_type": "code",
   "execution_count": 24,
   "metadata": {},
   "outputs": [
    {
     "name": "stdout",
     "output_type": "stream",
     "text": [
      "Enter coordinate x: 1\n",
      "Enter coordinate y: 1\n",
      "The point (1.0, 1.0) is in quadrant 1\n"
     ]
    }
   ],
   "source": [
    "import numpy as np\n",
    "\n",
    "x = float(input(\"Enter coordinate x: \"))\n",
    "y = float(input(\"Enter coordinate y: \"))\n",
    "\n",
    "if x >= 0.0:\n",
    "    x_sign = 1\n",
    "else:\n",
    "    x_sign = -1\n",
    "\n",
    "if y >= 0.0:\n",
    "    y_sign = 1\n",
    "else:\n",
    "    y_sign = -1\n",
    "    \n",
    "if x_sign == 1 and y_sign == 1:\n",
    "    print(\"The point ({}, {}) is in quadrant 1\".format(x, y))\n",
    "elif x_sign == 1 and y_sign == -1:\n",
    "    print(\"The point ({}, {}) is in quadrant 4\".format(x, y))\n",
    "elif x_sign == -1 and y_sign == 1:\n",
    "    print(\"The point ({}, {}) is in quadrant 2\".format(x, y))\n",
    "elif x_sign == -1 and y_sign == -1:\n",
    "    print(\"The point ({}, {}) is in quadrant 3\".format(x, y))\n",
    "    \n"
   ]
  },
  {
   "cell_type": "code",
   "execution_count": 29,
   "metadata": {},
   "outputs": [
    {
     "name": "stdout",
     "output_type": "stream",
     "text": [
      "Enter a number: 21\n",
      "Enter a number5\n",
      "The whole ratio in 21/5 is 4\n",
      "The rest in 21/5 is 1\n"
     ]
    }
   ],
   "source": [
    "divided = int(input(\"Enter a number: \"))\n",
    "divider = int(input(\"Enter a number\"))\n",
    "print(\"The whole ratio in {}/{} is {}\".format(divided, divider, divided//divider))\n",
    "print(\"The rest in {}/{} is {}\".format(divided, divider, divided%divider))"
   ]
  },
  {
   "cell_type": "code",
   "execution_count": 42,
   "metadata": {},
   "outputs": [
    {
     "name": "stdout",
     "output_type": "stream",
     "text": [
      "Enter a number: 100\n",
      "The number 100 is perfect square\n"
     ]
    }
   ],
   "source": [
    "x = int(input(\"Enter a number: \"))\n",
    "x_dec, x_int = math.modf(math.sqrt(x))\n",
    "if x_dec == 0.0:\n",
    "    print(\"The number {} is perfect square\".format(x))\n",
    "else:\n",
    "    print(\"The number {} is NOT perfect square\".format(x))"
   ]
  },
  {
   "cell_type": "code",
   "execution_count": 47,
   "metadata": {},
   "outputs": [
    {
     "name": "stdout",
     "output_type": "stream",
     "text": [
      "Enter a year: 1804\n",
      "The year 1804 is a leap year: True\n"
     ]
    }
   ],
   "source": [
    "year = int(input(\"Enter a year: \"))\n",
    "if year % 4 == 0:\n",
    "    if year % 100 == 0:\n",
    "        if year % 400 == 0:\n",
    "            leap_year = True\n",
    "        else:\n",
    "            leap_year = False\n",
    "    else:\n",
    "        leap_year = True\n",
    "else:\n",
    "    leap_year = False\n",
    "\n",
    "print(\"The year {} is a leap year: {}\".format(year, leap_year))\n"
   ]
  },
  {
   "cell_type": "code",
   "execution_count": 61,
   "metadata": {},
   "outputs": [
    {
     "name": "stdout",
     "output_type": "stream",
     "text": [
      "Enter a letter:h1\n",
      "The cell is white\n"
     ]
    }
   ],
   "source": [
    "cell = input(\"Enter a letter:\")\n",
    "# letters a, c, e, g -> even numbers white and odd numbers black\n",
    "if(cell[0] == 'a' or cell[0] == 'c' or cell[0] == 'e' or cell[0] == 'g'):\n",
    "    if(int(cell[1]) % 2 == 0):\n",
    "        print(\"The cell is white\")\n",
    "    else:\n",
    "        print(\"The cell is black\")\n",
    "# letters b, d, f, h -> even numbers black and odd numbers white\n",
    "if(cell[0] == 'b' or cell[0] == 'd' or cell[0] == 'f' or cell[0] == 'h'):\n",
    "    if(int(cell[1]) % 2 == 0):\n",
    "        print(\"The cell is black\")\n",
    "    else:\n",
    "        print(\"The cell is white\")\n"
   ]
  },
  {
   "cell_type": "code",
   "execution_count": null,
   "metadata": {},
   "outputs": [],
   "source": []
  }
 ],
 "metadata": {
  "kernelspec": {
   "display_name": "Python 3",
   "language": "python",
   "name": "python3"
  },
  "language_info": {
   "codemirror_mode": {
    "name": "ipython",
    "version": 3
   },
   "file_extension": ".py",
   "mimetype": "text/x-python",
   "name": "python",
   "nbconvert_exporter": "python",
   "pygments_lexer": "ipython3",
   "version": "3.7.4"
  }
 },
 "nbformat": 4,
 "nbformat_minor": 2
}
